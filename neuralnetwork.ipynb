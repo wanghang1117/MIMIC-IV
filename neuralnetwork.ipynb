{
 "cells": [
  {
   "cell_type": "code",
   "execution_count": 1,
   "metadata": {
    "ExecuteTime": {
     "end_time": "2024-11-23T16:28:34.229595Z",
     "start_time": "2024-11-23T16:28:25.634011Z"
    }
   },
   "outputs": [],
   "source": [
    "import pandas as pd\n",
    "import numpy as np\n",
    "from sklearn.experimental import enable_iterative_imputer\n",
    "from sklearn.impute import IterativeImputer\n",
    "from sklearn.model_selection import train_test_split\n",
    "from sklearn.neural_network import MLPClassifier\n",
    "from sklearn.metrics import roc_auc_score, classification_report, confusion_matrix, accuracy_score, roc_curve\n",
    "import matplotlib.pyplot as plt\n",
    "from sklearn.preprocessing import LabelEncoder, StandardScaler\n",
    "import tensorflow as tf\n",
    "from tensorflow.keras.models import Sequential\n",
    "from tensorflow.keras.layers import Dense, Dropout\n",
    "from tensorflow.keras.optimizers import Adam\n",
    "from sklearn.metrics import roc_auc_score, classification_report, confusion_matrix\n",
    "from sklearn.ensemble import RandomForestClassifier\n",
    "from sklearn.feature_selection import RFE"
   ]
  },
  {
   "cell_type": "code",
   "execution_count": 2,
   "metadata": {
    "ExecuteTime": {
     "end_time": "2024-11-23T16:28:48.019817Z",
     "start_time": "2024-11-23T16:28:47.979575Z"
    }
   },
   "outputs": [
    {
     "data": {
      "text/html": [
       "<div>\n",
       "<style scoped>\n",
       "    .dataframe tbody tr th:only-of-type {\n",
       "        vertical-align: middle;\n",
       "    }\n",
       "\n",
       "    .dataframe tbody tr th {\n",
       "        vertical-align: top;\n",
       "    }\n",
       "\n",
       "    .dataframe thead th {\n",
       "        text-align: right;\n",
       "    }\n",
       "</style>\n",
       "<table border=\"1\" class=\"dataframe\">\n",
       "  <thead>\n",
       "    <tr style=\"text-align: right;\">\n",
       "      <th></th>\n",
       "      <th>subject_id</th>\n",
       "      <th>admission_type</th>\n",
       "      <th>insurance</th>\n",
       "      <th>los_hospital</th>\n",
       "      <th>anchor_age</th>\n",
       "      <th>glucose_mean</th>\n",
       "      <th>heart_rate_mean</th>\n",
       "      <th>sbp_mean</th>\n",
       "      <th>dbp_mean</th>\n",
       "      <th>mbp_mean</th>\n",
       "      <th>...</th>\n",
       "      <th>mild_liver_disease</th>\n",
       "      <th>diabetes_without_cc</th>\n",
       "      <th>paraplegia</th>\n",
       "      <th>malignant_cancer</th>\n",
       "      <th>severe_liver_disease</th>\n",
       "      <th>metastatic_solid_tumor</th>\n",
       "      <th>aids</th>\n",
       "      <th>sepsis3</th>\n",
       "      <th>total_urine_output</th>\n",
       "      <th>AKI</th>\n",
       "    </tr>\n",
       "  </thead>\n",
       "  <tbody>\n",
       "    <tr>\n",
       "      <th>0</th>\n",
       "      <td>13248510</td>\n",
       "      <td>URGENT</td>\n",
       "      <td>Private</td>\n",
       "      <td>3</td>\n",
       "      <td>19</td>\n",
       "      <td>89.300000</td>\n",
       "      <td>79.814815</td>\n",
       "      <td>151.468085</td>\n",
       "      <td>87.957447</td>\n",
       "      <td>107.468085</td>\n",
       "      <td>...</td>\n",
       "      <td>0</td>\n",
       "      <td>0</td>\n",
       "      <td>0</td>\n",
       "      <td>0</td>\n",
       "      <td>1</td>\n",
       "      <td>0</td>\n",
       "      <td>0</td>\n",
       "      <td>NaN</td>\n",
       "      <td>13635.0</td>\n",
       "      <td>1</td>\n",
       "    </tr>\n",
       "    <tr>\n",
       "      <th>1</th>\n",
       "      <td>15680483</td>\n",
       "      <td>EW EMER.</td>\n",
       "      <td>Private</td>\n",
       "      <td>4</td>\n",
       "      <td>21</td>\n",
       "      <td>179.000000</td>\n",
       "      <td>78.160000</td>\n",
       "      <td>108.538462</td>\n",
       "      <td>53.076923</td>\n",
       "      <td>65.615385</td>\n",
       "      <td>...</td>\n",
       "      <td>0</td>\n",
       "      <td>1</td>\n",
       "      <td>0</td>\n",
       "      <td>0</td>\n",
       "      <td>0</td>\n",
       "      <td>0</td>\n",
       "      <td>0</td>\n",
       "      <td>True</td>\n",
       "      <td>9170.0</td>\n",
       "      <td>1</td>\n",
       "    </tr>\n",
       "    <tr>\n",
       "      <th>2</th>\n",
       "      <td>12832775</td>\n",
       "      <td>URGENT</td>\n",
       "      <td>Medicaid</td>\n",
       "      <td>71</td>\n",
       "      <td>22</td>\n",
       "      <td>138.818182</td>\n",
       "      <td>94.645833</td>\n",
       "      <td>111.126316</td>\n",
       "      <td>53.647368</td>\n",
       "      <td>70.752632</td>\n",
       "      <td>...</td>\n",
       "      <td>0</td>\n",
       "      <td>1</td>\n",
       "      <td>0</td>\n",
       "      <td>0</td>\n",
       "      <td>0</td>\n",
       "      <td>0</td>\n",
       "      <td>0</td>\n",
       "      <td>True</td>\n",
       "      <td>451921.0</td>\n",
       "      <td>1</td>\n",
       "    </tr>\n",
       "    <tr>\n",
       "      <th>3</th>\n",
       "      <td>12832775</td>\n",
       "      <td>URGENT</td>\n",
       "      <td>Medicaid</td>\n",
       "      <td>71</td>\n",
       "      <td>22</td>\n",
       "      <td>201.807692</td>\n",
       "      <td>116.607143</td>\n",
       "      <td>135.560000</td>\n",
       "      <td>67.920000</td>\n",
       "      <td>81.920000</td>\n",
       "      <td>...</td>\n",
       "      <td>0</td>\n",
       "      <td>1</td>\n",
       "      <td>0</td>\n",
       "      <td>0</td>\n",
       "      <td>0</td>\n",
       "      <td>0</td>\n",
       "      <td>0</td>\n",
       "      <td>NaN</td>\n",
       "      <td>20750.0</td>\n",
       "      <td>1</td>\n",
       "    </tr>\n",
       "    <tr>\n",
       "      <th>4</th>\n",
       "      <td>10810063</td>\n",
       "      <td>URGENT</td>\n",
       "      <td>Private</td>\n",
       "      <td>8</td>\n",
       "      <td>22</td>\n",
       "      <td>122.400000</td>\n",
       "      <td>90.527778</td>\n",
       "      <td>113.385714</td>\n",
       "      <td>71.028571</td>\n",
       "      <td>86.157143</td>\n",
       "      <td>...</td>\n",
       "      <td>1</td>\n",
       "      <td>0</td>\n",
       "      <td>0</td>\n",
       "      <td>0</td>\n",
       "      <td>0</td>\n",
       "      <td>0</td>\n",
       "      <td>0</td>\n",
       "      <td>True</td>\n",
       "      <td>65130.0</td>\n",
       "      <td>1</td>\n",
       "    </tr>\n",
       "  </tbody>\n",
       "</table>\n",
       "<p>5 rows × 51 columns</p>\n",
       "</div>"
      ],
      "text/plain": [
       "   subject_id admission_type insurance  los_hospital  anchor_age  \\\n",
       "0    13248510         URGENT   Private             3          19   \n",
       "1    15680483       EW EMER.   Private             4          21   \n",
       "2    12832775         URGENT  Medicaid            71          22   \n",
       "3    12832775         URGENT  Medicaid            71          22   \n",
       "4    10810063         URGENT   Private             8          22   \n",
       "\n",
       "   glucose_mean  heart_rate_mean    sbp_mean   dbp_mean    mbp_mean  ...  \\\n",
       "0     89.300000        79.814815  151.468085  87.957447  107.468085  ...   \n",
       "1    179.000000        78.160000  108.538462  53.076923   65.615385  ...   \n",
       "2    138.818182        94.645833  111.126316  53.647368   70.752632  ...   \n",
       "3    201.807692       116.607143  135.560000  67.920000   81.920000  ...   \n",
       "4    122.400000        90.527778  113.385714  71.028571   86.157143  ...   \n",
       "\n",
       "   mild_liver_disease  diabetes_without_cc  paraplegia  malignant_cancer  \\\n",
       "0                   0                    0           0                 0   \n",
       "1                   0                    1           0                 0   \n",
       "2                   0                    1           0                 0   \n",
       "3                   0                    1           0                 0   \n",
       "4                   1                    0           0                 0   \n",
       "\n",
       "   severe_liver_disease  metastatic_solid_tumor  aids  sepsis3  \\\n",
       "0                     1                       0     0      NaN   \n",
       "1                     0                       0     0     True   \n",
       "2                     0                       0     0     True   \n",
       "3                     0                       0     0      NaN   \n",
       "4                     0                       0     0     True   \n",
       "\n",
       "   total_urine_output  AKI  \n",
       "0             13635.0    1  \n",
       "1              9170.0    1  \n",
       "2            451921.0    1  \n",
       "3             20750.0    1  \n",
       "4             65130.0    1  \n",
       "\n",
       "[5 rows x 51 columns]"
      ]
     },
     "execution_count": 2,
     "metadata": {},
     "output_type": "execute_result"
    }
   ],
   "source": [
    "#Upload Data From CSV to dataframe\n",
    "data = pd.read_csv(\"data2.csv\")\n",
    "data.head()"
   ]
  },
  {
   "cell_type": "code",
   "execution_count": 3,
   "metadata": {
    "ExecuteTime": {
     "end_time": "2024-11-23T16:28:49.742466Z",
     "start_time": "2024-11-23T16:28:49.733793Z"
    }
   },
   "outputs": [],
   "source": [
    "# Drop the columns with more than 20% missing values\n",
    "threshold = 0.2\n",
    "missing_percentage = data.isnull().sum() / len(data)\n",
    "filtered_data = data.loc[:, missing_percentage <= threshold]"
   ]
  },
  {
   "cell_type": "code",
   "execution_count": 4,
   "metadata": {
    "ExecuteTime": {
     "end_time": "2024-11-23T16:28:52.097596Z",
     "start_time": "2024-11-23T16:28:52.092361Z"
    }
   },
   "outputs": [],
   "source": [
    "# Split the data into train and test\n",
    "categorical_cols = filtered_data.select_dtypes(include=['object']).columns\n",
    "numerical_cols = filtered_data.select_dtypes(exclude=['object']).columns"
   ]
  },
  {
   "cell_type": "code",
   "execution_count": 5,
   "metadata": {
    "ExecuteTime": {
     "end_time": "2024-11-23T16:29:08.076836Z",
     "start_time": "2024-11-23T16:28:54.562902Z"
    }
   },
   "outputs": [
    {
     "name": "stderr",
     "output_type": "stream",
     "text": [
      "C:\\Users\\eric9\\AppData\\Local\\Temp\\ipykernel_42748\\3064761086.py:5: SettingWithCopyWarning: \n",
      "A value is trying to be set on a copy of a slice from a DataFrame.\n",
      "Try using .loc[row_indexer,col_indexer] = value instead\n",
      "\n",
      "See the caveats in the documentation: https://pandas.pydata.org/pandas-docs/stable/user_guide/indexing.html#returning-a-view-versus-a-copy\n",
      "  filtered_data[col] = le.fit_transform(filtered_data[col].astype(str))\n",
      "C:\\Users\\eric9\\AppData\\Local\\Temp\\ipykernel_42748\\3064761086.py:5: SettingWithCopyWarning: \n",
      "A value is trying to be set on a copy of a slice from a DataFrame.\n",
      "Try using .loc[row_indexer,col_indexer] = value instead\n",
      "\n",
      "See the caveats in the documentation: https://pandas.pydata.org/pandas-docs/stable/user_guide/indexing.html#returning-a-view-versus-a-copy\n",
      "  filtered_data[col] = le.fit_transform(filtered_data[col].astype(str))\n"
     ]
    }
   ],
   "source": [
    "#Label Encoding for categorical columns and impute missing values for numerical columns\n",
    "label_encoders = {}\n",
    "for col in categorical_cols:\n",
    "    le = LabelEncoder()\n",
    "    filtered_data[col] = le.fit_transform(filtered_data[col].astype(str))\n",
    "    label_encoders[col] = le\n",
    "imputer = IterativeImputer(max_iter=10, random_state=42)\n",
    "imputed_data_numerical = pd.DataFrame(imputer.fit_transform(filtered_data[numerical_cols]), columns=numerical_cols)\n",
    "imputed_data = pd.concat([imputed_data_numerical, filtered_data[categorical_cols]], axis=1)"
   ]
  },
  {
   "cell_type": "code",
   "execution_count": 6,
   "metadata": {},
   "outputs": [],
   "source": [
    "X = imputed_data.drop('AKI', axis=1)\n",
    "y = imputed_data['AKI']"
   ]
  },
  {
   "cell_type": "code",
   "execution_count": 7,
   "metadata": {},
   "outputs": [
    {
     "name": "stdout",
     "output_type": "stream",
     "text": [
      "Selected Features: Index(['los_hospital', 'anchor_age', 'glucose_mean', 'heart_rate_mean',\n",
      "       'sbp_mean', 'dbp_mean', 'mbp_mean', 'resp_rate_mean', 'spo2_mean',\n",
      "       'hematocrit_max', 'wbc_max', 'bicarbonate_max', 'bun_max',\n",
      "       'calcium_max', 'chloride_max', 'creatinine_max', 'glucose_max',\n",
      "       'sodium_max', 'pt_max', 'ptt_max', 'alt_max', 'bilirubin_total_max',\n",
      "       'admission_type', 'insurance'],\n",
      "      dtype='object')\n"
     ]
    },
    {
     "name": "stderr",
     "output_type": "stream",
     "text": [
      "C:\\Users\\eric9\\anaconda3\\Lib\\site-packages\\sklearn\\base.py:486: UserWarning: X has feature names, but SelectFromModel was fitted without feature names\n",
      "  warnings.warn(\n"
     ]
    }
   ],
   "source": [
    "# Lasso Feature Selection\n",
    "from sklearn.linear_model import Lasso\n",
    "from sklearn.feature_selection import SelectFromModel\n",
    "\n",
    "# Assuming `X` is your feature matrix and `y` is your target variable\n",
    "lasso = Lasso(alpha=0.01, random_state=42)  # Adjust alpha as needed\n",
    "lasso.fit(X, y)\n",
    "\n",
    "# Use SelectFromModel to select important features\n",
    "model = SelectFromModel(lasso, prefit=True)\n",
    "X_selected = model.transform(X)\n",
    "\n",
    "# Get the selected feature names\n",
    "selected_features = X.columns[(model.get_support())]\n",
    "print(\"Selected Features:\", selected_features)"
   ]
  },
  {
   "cell_type": "code",
   "execution_count": 8,
   "metadata": {},
   "outputs": [
    {
     "name": "stdout",
     "output_type": "stream",
     "text": [
      "Index(['los_hospital', 'anchor_age', 'glucose_mean', 'heart_rate_mean',\n",
      "       'sbp_mean', 'dbp_mean', 'mbp_mean', 'resp_rate_mean', 'spo2_mean',\n",
      "       'hematocrit_max', 'wbc_max', 'bicarbonate_max', 'bun_max',\n",
      "       'calcium_max', 'chloride_max', 'creatinine_max', 'glucose_max',\n",
      "       'sodium_max', 'pt_max', 'ptt_max', 'alt_max', 'bilirubin_total_max',\n",
      "       'admission_type', 'insurance'],\n",
      "      dtype='object')\n"
     ]
    }
   ],
   "source": [
    "print(selected_features)"
   ]
  },
  {
   "cell_type": "code",
   "execution_count": 9,
   "metadata": {
    "ExecuteTime": {
     "end_time": "2024-11-23T16:29:09.853162Z",
     "start_time": "2024-11-23T16:29:09.838840Z"
    }
   },
   "outputs": [],
   "source": [
    "# Identify the target column\n",
    "X = X[selected_features]  \n",
    "y = imputed_data['AKI']\n",
    "\n",
    "scaler = StandardScaler()\n",
    "X_scaled = scaler.fit_transform(X)"
   ]
  },
  {
   "cell_type": "code",
   "execution_count": 10,
   "metadata": {
    "ExecuteTime": {
     "end_time": "2024-11-23T16:29:13.383506Z",
     "start_time": "2024-11-23T16:29:13.378231Z"
    }
   },
   "outputs": [],
   "source": [
    "# Split the data into train and test\n",
    "X_train, X_test, y_train, y_test = train_test_split(X_scaled, y, test_size=0.3, random_state=42)\n"
   ]
  },
  {
   "cell_type": "code",
   "execution_count": 11,
   "metadata": {
    "ExecuteTime": {
     "end_time": "2024-11-23T16:29:24.697097Z",
     "start_time": "2024-11-23T16:29:14.863181Z"
    }
   },
   "outputs": [
    {
     "name": "stdout",
     "output_type": "stream",
     "text": [
      "Epoch 1/50\n"
     ]
    },
    {
     "name": "stderr",
     "output_type": "stream",
     "text": [
      "C:\\Users\\eric9\\anaconda3\\Lib\\site-packages\\keras\\src\\layers\\core\\dense.py:88: UserWarning: Do not pass an `input_shape`/`input_dim` argument to a layer. When using Sequential models, prefer using an `Input(shape)` object as the first layer in the model instead.\n",
      "  super().__init__(activity_regularizer=activity_regularizer, **kwargs)\n"
     ]
    },
    {
     "name": "stdout",
     "output_type": "stream",
     "text": [
      "\u001b[1m19/19\u001b[0m \u001b[32m━━━━━━━━━━━━━━━━━━━━\u001b[0m\u001b[37m\u001b[0m \u001b[1m1s\u001b[0m 10ms/step - accuracy: 0.7696 - loss: 0.5407 - val_accuracy: 0.8026 - val_loss: 0.4282\n",
      "Epoch 2/50\n",
      "\u001b[1m19/19\u001b[0m \u001b[32m━━━━━━━━━━━━━━━━━━━━\u001b[0m\u001b[37m\u001b[0m \u001b[1m0s\u001b[0m 3ms/step - accuracy: 0.8033 - loss: 0.4281 - val_accuracy: 0.8026 - val_loss: 0.4061\n",
      "Epoch 3/50\n",
      "\u001b[1m19/19\u001b[0m \u001b[32m━━━━━━━━━━━━━━━━━━━━\u001b[0m\u001b[37m\u001b[0m \u001b[1m0s\u001b[0m 3ms/step - accuracy: 0.8184 - loss: 0.3913 - val_accuracy: 0.8092 - val_loss: 0.3924\n",
      "Epoch 4/50\n",
      "\u001b[1m19/19\u001b[0m \u001b[32m━━━━━━━━━━━━━━━━━━━━\u001b[0m\u001b[37m\u001b[0m \u001b[1m0s\u001b[0m 3ms/step - accuracy: 0.8171 - loss: 0.3833 - val_accuracy: 0.8026 - val_loss: 0.3835\n",
      "Epoch 5/50\n",
      "\u001b[1m19/19\u001b[0m \u001b[32m━━━━━━━━━━━━━━━━━━━━\u001b[0m\u001b[37m\u001b[0m \u001b[1m0s\u001b[0m 3ms/step - accuracy: 0.8058 - loss: 0.4116 - val_accuracy: 0.8092 - val_loss: 0.3737\n",
      "Epoch 6/50\n",
      "\u001b[1m19/19\u001b[0m \u001b[32m━━━━━━━━━━━━━━━━━━━━\u001b[0m\u001b[37m\u001b[0m \u001b[1m0s\u001b[0m 3ms/step - accuracy: 0.8411 - loss: 0.3430 - val_accuracy: 0.8026 - val_loss: 0.3765\n",
      "Epoch 7/50\n",
      "\u001b[1m19/19\u001b[0m \u001b[32m━━━━━━━━━━━━━━━━━━━━\u001b[0m\u001b[37m\u001b[0m \u001b[1m0s\u001b[0m 3ms/step - accuracy: 0.8368 - loss: 0.3450 - val_accuracy: 0.8355 - val_loss: 0.3725\n",
      "Epoch 8/50\n",
      "\u001b[1m19/19\u001b[0m \u001b[32m━━━━━━━━━━━━━━━━━━━━\u001b[0m\u001b[37m\u001b[0m \u001b[1m0s\u001b[0m 3ms/step - accuracy: 0.8193 - loss: 0.3503 - val_accuracy: 0.8158 - val_loss: 0.3806\n",
      "Epoch 9/50\n",
      "\u001b[1m19/19\u001b[0m \u001b[32m━━━━━━━━━━━━━━━━━━━━\u001b[0m\u001b[37m\u001b[0m \u001b[1m0s\u001b[0m 3ms/step - accuracy: 0.8574 - loss: 0.3203 - val_accuracy: 0.8289 - val_loss: 0.3804\n",
      "Epoch 10/50\n",
      "\u001b[1m19/19\u001b[0m \u001b[32m━━━━━━━━━━━━━━━━━━━━\u001b[0m\u001b[37m\u001b[0m \u001b[1m0s\u001b[0m 3ms/step - accuracy: 0.8391 - loss: 0.3455 - val_accuracy: 0.8355 - val_loss: 0.3769\n",
      "Epoch 11/50\n",
      "\u001b[1m19/19\u001b[0m \u001b[32m━━━━━━━━━━━━━━━━━━━━\u001b[0m\u001b[37m\u001b[0m \u001b[1m0s\u001b[0m 3ms/step - accuracy: 0.8461 - loss: 0.2848 - val_accuracy: 0.8224 - val_loss: 0.3814\n",
      "Epoch 12/50\n",
      "\u001b[1m19/19\u001b[0m \u001b[32m━━━━━━━━━━━━━━━━━━━━\u001b[0m\u001b[37m\u001b[0m \u001b[1m0s\u001b[0m 3ms/step - accuracy: 0.8845 - loss: 0.2726 - val_accuracy: 0.8158 - val_loss: 0.3930\n",
      "Epoch 13/50\n",
      "\u001b[1m19/19\u001b[0m \u001b[32m━━━━━━━━━━━━━━━━━━━━\u001b[0m\u001b[37m\u001b[0m \u001b[1m0s\u001b[0m 3ms/step - accuracy: 0.8633 - loss: 0.2875 - val_accuracy: 0.8092 - val_loss: 0.3896\n",
      "Epoch 14/50\n",
      "\u001b[1m19/19\u001b[0m \u001b[32m━━━━━━━━━━━━━━━━━━━━\u001b[0m\u001b[37m\u001b[0m \u001b[1m0s\u001b[0m 3ms/step - accuracy: 0.8784 - loss: 0.2707 - val_accuracy: 0.8092 - val_loss: 0.3938\n",
      "Epoch 15/50\n",
      "\u001b[1m19/19\u001b[0m \u001b[32m━━━━━━━━━━━━━━━━━━━━\u001b[0m\u001b[37m\u001b[0m \u001b[1m0s\u001b[0m 3ms/step - accuracy: 0.8726 - loss: 0.2644 - val_accuracy: 0.8026 - val_loss: 0.4027\n",
      "Epoch 16/50\n",
      "\u001b[1m19/19\u001b[0m \u001b[32m━━━━━━━━━━━━━━━━━━━━\u001b[0m\u001b[37m\u001b[0m \u001b[1m0s\u001b[0m 3ms/step - accuracy: 0.8649 - loss: 0.2837 - val_accuracy: 0.8224 - val_loss: 0.4011\n",
      "Epoch 17/50\n",
      "\u001b[1m19/19\u001b[0m \u001b[32m━━━━━━━━━━━━━━━━━━━━\u001b[0m\u001b[37m\u001b[0m \u001b[1m0s\u001b[0m 3ms/step - accuracy: 0.8821 - loss: 0.2857 - val_accuracy: 0.8224 - val_loss: 0.4025\n",
      "Epoch 18/50\n",
      "\u001b[1m19/19\u001b[0m \u001b[32m━━━━━━━━━━━━━━━━━━━━\u001b[0m\u001b[37m\u001b[0m \u001b[1m0s\u001b[0m 3ms/step - accuracy: 0.8776 - loss: 0.2636 - val_accuracy: 0.8158 - val_loss: 0.4051\n",
      "Epoch 19/50\n",
      "\u001b[1m19/19\u001b[0m \u001b[32m━━━━━━━━━━━━━━━━━━━━\u001b[0m\u001b[37m\u001b[0m \u001b[1m0s\u001b[0m 3ms/step - accuracy: 0.8587 - loss: 0.2655 - val_accuracy: 0.8224 - val_loss: 0.4175\n",
      "Epoch 20/50\n",
      "\u001b[1m19/19\u001b[0m \u001b[32m━━━━━━━━━━━━━━━━━━━━\u001b[0m\u001b[37m\u001b[0m \u001b[1m0s\u001b[0m 3ms/step - accuracy: 0.8748 - loss: 0.2409 - val_accuracy: 0.8224 - val_loss: 0.4213\n",
      "Epoch 21/50\n",
      "\u001b[1m19/19\u001b[0m \u001b[32m━━━━━━━━━━━━━━━━━━━━\u001b[0m\u001b[37m\u001b[0m \u001b[1m0s\u001b[0m 3ms/step - accuracy: 0.8700 - loss: 0.2582 - val_accuracy: 0.8355 - val_loss: 0.4273\n",
      "Epoch 22/50\n",
      "\u001b[1m19/19\u001b[0m \u001b[32m━━━━━━━━━━━━━━━━━━━━\u001b[0m\u001b[37m\u001b[0m \u001b[1m0s\u001b[0m 3ms/step - accuracy: 0.8934 - loss: 0.2305 - val_accuracy: 0.8158 - val_loss: 0.4429\n",
      "Epoch 23/50\n",
      "\u001b[1m19/19\u001b[0m \u001b[32m━━━━━━━━━━━━━━━━━━━━\u001b[0m\u001b[37m\u001b[0m \u001b[1m0s\u001b[0m 3ms/step - accuracy: 0.9014 - loss: 0.2214 - val_accuracy: 0.8224 - val_loss: 0.4433\n",
      "Epoch 24/50\n",
      "\u001b[1m19/19\u001b[0m \u001b[32m━━━━━━━━━━━━━━━━━━━━\u001b[0m\u001b[37m\u001b[0m \u001b[1m0s\u001b[0m 3ms/step - accuracy: 0.8889 - loss: 0.2438 - val_accuracy: 0.8421 - val_loss: 0.4428\n",
      "Epoch 25/50\n",
      "\u001b[1m19/19\u001b[0m \u001b[32m━━━━━━━━━━━━━━━━━━━━\u001b[0m\u001b[37m\u001b[0m \u001b[1m0s\u001b[0m 3ms/step - accuracy: 0.9073 - loss: 0.2155 - val_accuracy: 0.8224 - val_loss: 0.4555\n",
      "Epoch 26/50\n",
      "\u001b[1m19/19\u001b[0m \u001b[32m━━━━━━━━━━━━━━━━━━━━\u001b[0m\u001b[37m\u001b[0m \u001b[1m0s\u001b[0m 3ms/step - accuracy: 0.8998 - loss: 0.2273 - val_accuracy: 0.8421 - val_loss: 0.4495\n",
      "Epoch 27/50\n",
      "\u001b[1m19/19\u001b[0m \u001b[32m━━━━━━━━━━━━━━━━━━━━\u001b[0m\u001b[37m\u001b[0m \u001b[1m0s\u001b[0m 3ms/step - accuracy: 0.8900 - loss: 0.2537 - val_accuracy: 0.8421 - val_loss: 0.4488\n",
      "Epoch 28/50\n",
      "\u001b[1m19/19\u001b[0m \u001b[32m━━━━━━━━━━━━━━━━━━━━\u001b[0m\u001b[37m\u001b[0m \u001b[1m0s\u001b[0m 3ms/step - accuracy: 0.8974 - loss: 0.2152 - val_accuracy: 0.8553 - val_loss: 0.4635\n",
      "Epoch 29/50\n",
      "\u001b[1m19/19\u001b[0m \u001b[32m━━━━━━━━━━━━━━━━━━━━\u001b[0m\u001b[37m\u001b[0m \u001b[1m0s\u001b[0m 3ms/step - accuracy: 0.9068 - loss: 0.2152 - val_accuracy: 0.8553 - val_loss: 0.4826\n",
      "Epoch 30/50\n",
      "\u001b[1m19/19\u001b[0m \u001b[32m━━━━━━━━━━━━━━━━━━━━\u001b[0m\u001b[37m\u001b[0m \u001b[1m0s\u001b[0m 3ms/step - accuracy: 0.9290 - loss: 0.1901 - val_accuracy: 0.8158 - val_loss: 0.4892\n",
      "Epoch 31/50\n",
      "\u001b[1m19/19\u001b[0m \u001b[32m━━━━━━━━━━━━━━━━━━━━\u001b[0m\u001b[37m\u001b[0m \u001b[1m0s\u001b[0m 3ms/step - accuracy: 0.9070 - loss: 0.2050 - val_accuracy: 0.8092 - val_loss: 0.5023\n",
      "Epoch 32/50\n",
      "\u001b[1m19/19\u001b[0m \u001b[32m━━━━━━━━━━━━━━━━━━━━\u001b[0m\u001b[37m\u001b[0m \u001b[1m0s\u001b[0m 3ms/step - accuracy: 0.9010 - loss: 0.2147 - val_accuracy: 0.8421 - val_loss: 0.4781\n",
      "Epoch 33/50\n",
      "\u001b[1m19/19\u001b[0m \u001b[32m━━━━━━━━━━━━━━━━━━━━\u001b[0m\u001b[37m\u001b[0m \u001b[1m0s\u001b[0m 3ms/step - accuracy: 0.9042 - loss: 0.2039 - val_accuracy: 0.8224 - val_loss: 0.4997\n",
      "Epoch 34/50\n",
      "\u001b[1m19/19\u001b[0m \u001b[32m━━━━━━━━━━━━━━━━━━━━\u001b[0m\u001b[37m\u001b[0m \u001b[1m0s\u001b[0m 3ms/step - accuracy: 0.9012 - loss: 0.2021 - val_accuracy: 0.8355 - val_loss: 0.5018\n",
      "Epoch 35/50\n",
      "\u001b[1m19/19\u001b[0m \u001b[32m━━━━━━━━━━━━━━━━━━━━\u001b[0m\u001b[37m\u001b[0m \u001b[1m0s\u001b[0m 3ms/step - accuracy: 0.8923 - loss: 0.2184 - val_accuracy: 0.8487 - val_loss: 0.5059\n",
      "Epoch 36/50\n",
      "\u001b[1m19/19\u001b[0m \u001b[32m━━━━━━━━━━━━━━━━━━━━\u001b[0m\u001b[37m\u001b[0m \u001b[1m0s\u001b[0m 3ms/step - accuracy: 0.9016 - loss: 0.2049 - val_accuracy: 0.8289 - val_loss: 0.5109\n",
      "Epoch 37/50\n",
      "\u001b[1m19/19\u001b[0m \u001b[32m━━━━━━━━━━━━━━━━━━━━\u001b[0m\u001b[37m\u001b[0m \u001b[1m0s\u001b[0m 7ms/step - accuracy: 0.9157 - loss: 0.1856 - val_accuracy: 0.8289 - val_loss: 0.5315\n",
      "Epoch 38/50\n",
      "\u001b[1m19/19\u001b[0m \u001b[32m━━━━━━━━━━━━━━━━━━━━\u001b[0m\u001b[37m\u001b[0m \u001b[1m0s\u001b[0m 4ms/step - accuracy: 0.9129 - loss: 0.1894 - val_accuracy: 0.8355 - val_loss: 0.5501\n",
      "Epoch 39/50\n",
      "\u001b[1m19/19\u001b[0m \u001b[32m━━━━━━━━━━━━━━━━━━━━\u001b[0m\u001b[37m\u001b[0m \u001b[1m0s\u001b[0m 2ms/step - accuracy: 0.9203 - loss: 0.1703 - val_accuracy: 0.8224 - val_loss: 0.5597\n",
      "Epoch 40/50\n",
      "\u001b[1m19/19\u001b[0m \u001b[32m━━━━━━━━━━━━━━━━━━━━\u001b[0m\u001b[37m\u001b[0m \u001b[1m0s\u001b[0m 3ms/step - accuracy: 0.9198 - loss: 0.1705 - val_accuracy: 0.8224 - val_loss: 0.5719\n",
      "Epoch 41/50\n",
      "\u001b[1m19/19\u001b[0m \u001b[32m━━━━━━━━━━━━━━━━━━━━\u001b[0m\u001b[37m\u001b[0m \u001b[1m0s\u001b[0m 3ms/step - accuracy: 0.9067 - loss: 0.2193 - val_accuracy: 0.8092 - val_loss: 0.5583\n",
      "Epoch 42/50\n",
      "\u001b[1m19/19\u001b[0m \u001b[32m━━━━━━━━━━━━━━━━━━━━\u001b[0m\u001b[37m\u001b[0m \u001b[1m0s\u001b[0m 3ms/step - accuracy: 0.9272 - loss: 0.1888 - val_accuracy: 0.8289 - val_loss: 0.5681\n",
      "Epoch 43/50\n",
      "\u001b[1m19/19\u001b[0m \u001b[32m━━━━━━━━━━━━━━━━━━━━\u001b[0m\u001b[37m\u001b[0m \u001b[1m0s\u001b[0m 3ms/step - accuracy: 0.9205 - loss: 0.1710 - val_accuracy: 0.8289 - val_loss: 0.5778\n",
      "Epoch 44/50\n",
      "\u001b[1m19/19\u001b[0m \u001b[32m━━━━━━━━━━━━━━━━━━━━\u001b[0m\u001b[37m\u001b[0m \u001b[1m0s\u001b[0m 3ms/step - accuracy: 0.9292 - loss: 0.1569 - val_accuracy: 0.8355 - val_loss: 0.5937\n",
      "Epoch 45/50\n",
      "\u001b[1m19/19\u001b[0m \u001b[32m━━━━━━━━━━━━━━━━━━━━\u001b[0m\u001b[37m\u001b[0m \u001b[1m0s\u001b[0m 3ms/step - accuracy: 0.9271 - loss: 0.1663 - val_accuracy: 0.8355 - val_loss: 0.6199\n",
      "Epoch 46/50\n",
      "\u001b[1m19/19\u001b[0m \u001b[32m━━━━━━━━━━━━━━━━━━━━\u001b[0m\u001b[37m\u001b[0m \u001b[1m0s\u001b[0m 3ms/step - accuracy: 0.9314 - loss: 0.1546 - val_accuracy: 0.8224 - val_loss: 0.6479\n",
      "Epoch 47/50\n",
      "\u001b[1m19/19\u001b[0m \u001b[32m━━━━━━━━━━━━━━━━━━━━\u001b[0m\u001b[37m\u001b[0m \u001b[1m0s\u001b[0m 3ms/step - accuracy: 0.9553 - loss: 0.1341 - val_accuracy: 0.8224 - val_loss: 0.6679\n",
      "Epoch 48/50\n",
      "\u001b[1m19/19\u001b[0m \u001b[32m━━━━━━━━━━━━━━━━━━━━\u001b[0m\u001b[37m\u001b[0m \u001b[1m0s\u001b[0m 3ms/step - accuracy: 0.9306 - loss: 0.1619 - val_accuracy: 0.8158 - val_loss: 0.6797\n",
      "Epoch 49/50\n",
      "\u001b[1m19/19\u001b[0m \u001b[32m━━━━━━━━━━━━━━━━━━━━\u001b[0m\u001b[37m\u001b[0m \u001b[1m0s\u001b[0m 3ms/step - accuracy: 0.9391 - loss: 0.1478 - val_accuracy: 0.8224 - val_loss: 0.6645\n",
      "Epoch 50/50\n",
      "\u001b[1m19/19\u001b[0m \u001b[32m━━━━━━━━━━━━━━━━━━━━\u001b[0m\u001b[37m\u001b[0m \u001b[1m0s\u001b[0m 3ms/step - accuracy: 0.9546 - loss: 0.1175 - val_accuracy: 0.8092 - val_loss: 0.6912\n"
     ]
    }
   ],
   "source": [
    "# Build the Neural Network\n",
    "model = Sequential()\n",
    "# Input layer\n",
    "model.add(Dense(64, input_dim=X_train.shape[1], activation='relu'))\n",
    "model.add(Dropout(0.3))\n",
    "# Hidden layers\n",
    "model.add(Dense(128, activation='relu'))\n",
    "model.add(Dropout(0.3))\n",
    "model.add(Dense(64, activation='relu'))\n",
    "# Output layer\n",
    "model.add(Dense(1, activation='sigmoid'))\n",
    "# Compile the Model\n",
    "model.compile(optimizer=Adam(learning_rate=0.001), loss='binary_crossentropy', metrics=['accuracy'])\n",
    "# Train the Model\n",
    "history = model.fit(X_train, y_train, validation_split=0.2, epochs=50, batch_size=32, verbose=1)\n"
   ]
  },
  {
   "cell_type": "code",
   "execution_count": 12,
   "metadata": {
    "ExecuteTime": {
     "end_time": "2024-11-23T16:29:36.090496Z",
     "start_time": "2024-11-23T16:29:35.908242Z"
    }
   },
   "outputs": [
    {
     "name": "stdout",
     "output_type": "stream",
     "text": [
      "\u001b[1m11/11\u001b[0m \u001b[32m━━━━━━━━━━━━━━━━━━━━\u001b[0m\u001b[37m\u001b[0m \u001b[1m0s\u001b[0m 4ms/step \n"
     ]
    }
   ],
   "source": [
    "# Predict the test data\n",
    "y_pred_prob_nn = model.predict(X_test).flatten()\n",
    "y_pred_nn = (y_pred_prob_nn > 0.5).astype(int)"
   ]
  },
  {
   "cell_type": "code",
   "execution_count": 13,
   "metadata": {
    "ExecuteTime": {
     "end_time": "2024-11-23T16:29:37.738085Z",
     "start_time": "2024-11-23T16:29:37.717490Z"
    }
   },
   "outputs": [
    {
     "name": "stdout",
     "output_type": "stream",
     "text": [
      "Neural Network AUC Score: 0.864943423647877\n",
      "Neural Network Classification Report:\n",
      "              precision    recall  f1-score   support\n",
      "\n",
      "         0.0       0.60      0.71      0.65        78\n",
      "         1.0       0.90      0.85      0.88       247\n",
      "\n",
      "    accuracy                           0.82       325\n",
      "   macro avg       0.75      0.78      0.76       325\n",
      "weighted avg       0.83      0.82      0.82       325\n",
      "\n",
      "Neural Network Confusion Matrix:\n",
      "[[ 55  23]\n",
      " [ 36 211]]\n"
     ]
    }
   ],
   "source": [
    "# Evaluating the neural network model\n",
    "auc_nn = roc_auc_score(y_test, y_pred_prob_nn)\n",
    "print(f\"Neural Network AUC Score: {auc_nn}\")\n",
    "print(\"Neural Network Classification Report:\")\n",
    "print(classification_report(y_test, y_pred_nn))\n",
    "print(\"Neural Network Confusion Matrix:\")\n",
    "print(confusion_matrix(y_test, y_pred_nn))"
   ]
  },
  {
   "cell_type": "code",
   "execution_count": 14,
   "metadata": {
    "ExecuteTime": {
     "end_time": "2024-11-23T16:29:40.713957Z",
     "start_time": "2024-11-23T16:29:40.470336Z"
    }
   },
   "outputs": [
    {
     "data": {
      "image/png": "[encoded data removed]",
      "text/plain": [
       "<Figure size 640x480 with 1 Axes>"
      ]
     },
     "metadata": {},
     "output_type": "display_data"
    }
   ],
   "source": [
    "# Accuracy Plot\n",
    "plt.subplot(1, 2, 2)\n",
    "plt.plot(history.history['accuracy'], label='Train Accuracy')\n",
    "plt.plot(history.history['val_accuracy'], label='Validation Accuracy')\n",
    "plt.xlabel('Epochs')\n",
    "plt.ylabel('Accuracy')\n",
    "plt.title('Training and Validation Accuracy')\n",
    "plt.legend()\n",
    "\n",
    "plt.show()"
   ]
  },
  {
   "cell_type": "code",
   "execution_count": null,
   "metadata": {},
   "outputs": [],
   "source": []
  }
 ],
 "metadata": {
  "kernelspec": {
   "display_name": "Python 3 (ipykernel)",
   "language": "python",
   "name": "python3"
  },
  "language_info": {
   "codemirror_mode": {
    "name": "ipython",
    "version": 3
   },
   "file_extension": ".py",
   "mimetype": "text/x-python",
   "name": "python",
   "nbconvert_exporter": "python",
   "pygments_lexer": "ipython3",
   "version": "3.11.5"
  }
 },
 "nbformat": 4,
 "nbformat_minor": 4
}
